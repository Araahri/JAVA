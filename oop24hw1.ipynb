{
 "cells": [
  {
   "cell_type": "markdown",
   "id": "49b2bb3f-8a94-4aba-bf67-6b97d86c0047",
   "metadata": {},
   "source": [
    "# OOP (2024 Fall) HW1: 불변 순서쌍을 활용해 가변 순서쌍 만들기 \n",
    "- 이름: 김규범\n",
    "- 학번: 20210516\n",
    "\n",
    "여기 홍길동, 99999999 대신 본인의 이름, 학번 작성"
   ]
  },
  {
   "cell_type": "markdown",
   "id": "9c3c24aa-19ac-4c88-a228-0d1686034a24",
   "metadata": {},
   "source": [
    "-----\n",
    "## Part A: 불변 순서쌍 Pair\n",
    "1. 클래스(또는 정적) 팩토리 메소드 `of`를 를 수정하여 완성하라.\n",
    "    - https://velog.io/@cjh8746/%EC%A0%95%EC%A0%81-%ED%8C%A9%ED%86%A0%EB%A6%AC-%EB%A9%94%EC%84%9C%EB%93%9CStatic-Factory-Method\n",
    "1. 주석 부분을 풀어 제너릭 클래스인 `Pair`가 제너릭 인터페이스 `Comparable`를 구현하도록 완성하라.\n",
    "    - https://docs.oracle.com/en/java/javase/22/docs/api/java.base/java/lang/Comparable.html"
   ]
  },
  {
   "cell_type": "code",
   "execution_count": 10,
   "id": "f2b4bcb7-9d9c-494a-9762-ca0700c6f762",
   "metadata": {},
   "outputs": [],
   "source": [
    "// Step 1: F와 S가 Comparable을 구현하도록 제약\n",
    "record Pair<F extends Comparable<F>, S extends Comparable<S>>(F first, S second) implements Comparable<Pair<F, S>> {\n",
    "\n",
    "    // Step 2: 제너릭을 사용하여 정적 팩토리 메소드 수정\n",
    "    public static <F extends Comparable<F>, S extends Comparable<S>> Pair<F, S> of(F first, S second) {\n",
    "        return new Pair<>(first, second);\n",
    "    }\n",
    "\n",
    "    // Step 3: compareTo 메소드 구현\n",
    "    @Override\n",
    "    public int compareTo(Pair<F, S> other) {\n",
    "        // 먼저 'first' 요소를 비교\n",
    "        int firstComparison = this.first.compareTo(other.first);\n",
    "        if (firstComparison != 0) {\n",
    "            return firstComparison;\n",
    "        }\n",
    "        // 'first'가 같다면 'second' 요소를 비교\n",
    "        return this.second.compareTo(other.second);\n",
    "    }\n",
    "}\n"
   ]
  },
  {
   "cell_type": "code",
   "execution_count": 11,
   "id": "5fb5b2ac-4ac0-40cc-9f87-1675177e4baa",
   "metadata": {},
   "outputs": [],
   "source": [
    "public class Main {\n",
    "    public static void main(String[] args) {\n",
    "        Pair<Integer, String> pair1 = Pair.of(1, \"a\");\n",
    "        Pair<Integer, String> pair2 = Pair.of(2, \"b\");\n",
    "        Pair<Integer, String> pair3 = Pair.of(1, \"a\");\n",
    "\n",
    "        // 왼쪽이 더 작은 경우\n",
    "        System.out.println(pair1.compareTo(pair2));  // 음수 값이 나와야 함\n",
    "        // 왼쪽이 더 큰 경우\n",
    "        System.out.println(pair2.compareTo(pair1));  // 양수 값이 나와야 함\n",
    "        // 같은 경우\n",
    "        System.out.println(pair1.compareTo(pair3));  // 0이 나와야 함\n",
    "    }\n",
    "}"
   ]
  },
  {
   "cell_type": "markdown",
   "id": "e2774a64-250e-4e89-a536-5a8ed42bb4ce",
   "metadata": {},
   "source": [
    "------\n",
    "## Part B: 가변 순서쌍 ModifiablePair\n",
    "\n",
    "불변 순서쌍만을 priviate 필드로 갖고 있는 가변 순서쌍 제너릭 클래스를 작성하라\n",
    "\n",
    "가변 순서쌍은 불변 순서쌍과 마찬가지 이름의 getter 메소드가 있고 추가로 setter 메소드도 있다.\n",
    "\n",
    "또, 가변 순서쌍도 불변 순서쌍과 마찬가지로 Comparable 제너릭 인터페이스를 구현하라.\n"
   ]
  },
  {
   "cell_type": "code",
   "execution_count": 12,
   "id": "38eb649f-d95e-40d8-a33b-658df4ee4a7f",
   "metadata": {},
   "outputs": [],
   "source": [
    "// Step 1: ModifiablePair 클래스 정의\n",
    "class ModifiablePair<F extends Comparable<F>, S extends Comparable<S>> implements Comparable<ModifiablePair<F, S>> {\n",
    "    // 불변 순서쌍인 Pair를 private 필드로 선언\n",
    "    private Pair<F, S> pair;\n",
    "\n",
    "    // Step 2: 생성자에서 Pair 객체를 초기화\n",
    "    ModifiablePair(F first, S second) {\n",
    "        this.pair = Pair.of(first, second);\n",
    "    }\n",
    "\n",
    "    // Step 3: getter 메소드 (pair에게 위임)\n",
    "    public F first() {\n",
    "        return pair.first();\n",
    "    }\n",
    "\n",
    "    public S second() {\n",
    "        return pair.second();\n",
    "    }\n",
    "\n",
    "    // Step 4: setter 메소드 (pair 객체를 새로 생성)\n",
    "    public void setFirst(F first) {\n",
    "        this.pair = Pair.of(first, pair.second());\n",
    "    }\n",
    "\n",
    "    public void setSecond(S second) {\n",
    "        this.pair = Pair.of(pair.first(), second);\n",
    "    }\n",
    "\n",
    "    // Step 5: compareTo 메소드 (pair 객체에게 위임)\n",
    "    @Override\n",
    "    public int compareTo(ModifiablePair<F, S> other) {\n",
    "        return this.pair.compareTo(other.pair);\n",
    "    }\n",
    "\n",
    "    // toString 메소드 (pair에게 위임)\n",
    "    @Override\n",
    "    public String toString() {\n",
    "        return pair.toString();\n",
    "    }\n",
    "}"
   ]
  },
  {
   "cell_type": "code",
   "execution_count": 13,
   "id": "57af3b33-b9db-43bd-a8e7-5b35d97aaf5e",
   "metadata": {},
   "outputs": [],
   "source": [
    "// ModifiablePair<F,S>의 getter와 setter들이 잘 동작하는지 확인할 수 있는 적절한 테스트 코드 작성하여 실행하라.\n",
    "// 그러니까 `first()`, `second()`, `setFrist(F)`, `setSecond(S)` 메소드를 모두 활용하는 예시 코드를 작성해 실행하라는 말이다."
   ]
  },
  {
   "cell_type": "code",
   "execution_count": 8,
   "id": "e0b9e66e-d3fa-4485-b6f6-4075eca8fcf3",
   "metadata": {},
   "outputs": [],
   "source": [
    "public class Main {\n",
    "    public static void main(String[] args) {\n",
    "        // Step 1: ModifiablePair 객체 생성\n",
    "        ModifiablePair<Integer, String> modPair1 = new ModifiablePair<>(1, \"apple\");\n",
    "        ModifiablePair<Integer, String> modPair2 = new ModifiablePair<>(2, \"banana\");\n",
    "\n",
    "        // Step 2: getter 메소드 테스트\n",
    "        System.out.println(\"First of modPair1: \" + modPair1.first());   // 출력: 1\n",
    "        System.out.println(\"Second of modPair1: \" + modPair1.second()); // 출력: apple\n",
    "\n",
    "        // Step 3: setter 메소드 테스트\n",
    "        modPair1.setFirst(3);\n",
    "        modPair1.setSecond(\"orange\");\n",
    "        System.out.println(\"After modification: \" + modPair1); // 출력: Pair(3, orange)\n",
    "\n",
    "        // Step 4: compareTo 메소드 테스트\n",
    "        // 왼쪽이 더 작은 경우\n",
    "        System.out.println(modPair1.compareTo(modPair2)); // 양수 값 (3 > 2)\n",
    "        // 왼쪽이 더 큰 경우\n",
    "        modPair1.setFirst(1);\n",
    "        System.out.println(modPair1.compareTo(modPair2)); // 음수 값 (1 < 2)\n",
    "        // 같은 경우\n",
    "        modPair1.setFirst(2);\n",
    "        modPair1.setSecond(\"banana\");\n",
    "        System.out.println(modPair1.compareTo(modPair2)); // 0 (같음)\n",
    "    }\n",
    "}"
   ]
  }
 ],
 "metadata": {
  "kernelspec": {
   "display_name": "Java (rjk 2.1.0)",
   "language": "java",
   "name": "rapaio-jupyter-kernel"
  },
  "language_info": {
   "codemirror_mode": "java",
   "file_extension": ".jshell",
   "mimetype": "text/x-java-source",
   "name": "java",
   "nbconvert_exporter": "script",
   "pygments_lexer": "java",
   "version": "22.0.2+9"
  }
 },
 "nbformat": 4,
 "nbformat_minor": 5
}
